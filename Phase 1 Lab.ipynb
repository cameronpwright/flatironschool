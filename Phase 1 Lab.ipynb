{
 "cells": [
  {
   "cell_type": "code",
   "execution_count": 165,
   "metadata": {},
   "outputs": [
    {
     "name": "stdout",
     "output_type": "stream",
     "text": [
      "Warning: Looks like you're using an outdated `kagglehub` version, please consider updating (latest version: 0.3.6)\n"
     ]
    }
   ],
   "source": [
    "import kagglehub as kg\n",
    "path = kg.dataset_download(\"khsamaha/aviation-accident-database-synopses\")"
   ]
  },
  {
   "cell_type": "code",
   "execution_count": 166,
   "metadata": {},
   "outputs": [],
   "source": [
    "encoding = 'Windows-1252'\n",
    "with open(path + '/AviationData.csv', 'r', encoding=encoding) as f:\n",
    "    data = f.read()\n",
    "\n",
    "with open('AviationData_utf8.csv', 'w', encoding='utf-8') as f:\n",
    "    f.write(data)"
   ]
  },
  {
   "cell_type": "code",
   "execution_count": 167,
   "metadata": {},
   "outputs": [],
   "source": [
    "import pandas as pd\n",
    "df = pd.read_csv('AviationData_utf8.csv', low_memory=False)"
   ]
  },
  {
   "cell_type": "code",
   "execution_count": 158,
   "metadata": {},
   "outputs": [],
   "source": [
    "import numpy as np\n",
    "import re\n",
    "import matplotlib.pyplot as plt\n",
    "\n",
    "%matplotlib inline"
   ]
  },
  {
   "cell_type": "markdown",
   "metadata": {},
   "source": [
    "## EDA and Data Cleaning\n",
    "First, I want to get a sense of the dataset itself and what transformations and cleaning may need to be done to get it in a workable format. \n",
    "\n",
    "From looking at the columns of the dataset, certain columns have a relatively large proportion of null values (e.g., latitutde and longitude; airport name; and air carrier)."
   ]
  },
  {
   "cell_type": "code",
   "execution_count": 159,
   "metadata": {
    "scrolled": false
   },
   "outputs": [
    {
     "name": "stdout",
     "output_type": "stream",
     "text": [
      "<class 'pandas.core.frame.DataFrame'>\n",
      "RangeIndex: 88889 entries, 0 to 88888\n",
      "Data columns (total 31 columns):\n",
      " #   Column                  Non-Null Count  Dtype  \n",
      "---  ------                  --------------  -----  \n",
      " 0   Event.Id                88889 non-null  object \n",
      " 1   Investigation.Type      88889 non-null  object \n",
      " 2   Accident.Number         88889 non-null  object \n",
      " 3   Event.Date              88889 non-null  object \n",
      " 4   Location                88837 non-null  object \n",
      " 5   Country                 88663 non-null  object \n",
      " 6   Latitude                34382 non-null  object \n",
      " 7   Longitude               34373 non-null  object \n",
      " 8   Airport.Code            50249 non-null  object \n",
      " 9   Airport.Name            52790 non-null  object \n",
      " 10  Injury.Severity         87889 non-null  object \n",
      " 11  Aircraft.damage         85695 non-null  object \n",
      " 12  Aircraft.Category       32287 non-null  object \n",
      " 13  Registration.Number     87572 non-null  object \n",
      " 14  Make                    88826 non-null  object \n",
      " 15  Model                   88797 non-null  object \n",
      " 16  Amateur.Built           88787 non-null  object \n",
      " 17  Number.of.Engines       82805 non-null  float64\n",
      " 18  Engine.Type             81812 non-null  object \n",
      " 19  FAR.Description         32023 non-null  object \n",
      " 20  Schedule                12582 non-null  object \n",
      " 21  Purpose.of.flight       82697 non-null  object \n",
      " 22  Air.carrier             16648 non-null  object \n",
      " 23  Total.Fatal.Injuries    77488 non-null  float64\n",
      " 24  Total.Serious.Injuries  76379 non-null  float64\n",
      " 25  Total.Minor.Injuries    76956 non-null  float64\n",
      " 26  Total.Uninjured         82977 non-null  float64\n",
      " 27  Weather.Condition       84397 non-null  object \n",
      " 28  Broad.phase.of.flight   61724 non-null  object \n",
      " 29  Report.Status           82508 non-null  object \n",
      " 30  Publication.Date        75118 non-null  object \n",
      "dtypes: float64(5), object(26)\n",
      "memory usage: 21.0+ MB\n"
     ]
    }
   ],
   "source": [
    "df.info()"
   ]
  },
  {
   "cell_type": "code",
   "execution_count": 160,
   "metadata": {},
   "outputs": [
    {
     "data": {
      "text/plain": [
       "Airplane             27617\n",
       "Helicopter            3440\n",
       "Glider                 508\n",
       "Balloon                231\n",
       "Gyrocraft              173\n",
       "Weight-Shift           161\n",
       "Powered Parachute       91\n",
       "Ultralight              30\n",
       "Unknown                 14\n",
       "WSFT                     9\n",
       "Powered-Lift             5\n",
       "Blimp                    4\n",
       "UNK                      2\n",
       "Rocket                   1\n",
       "ULTR                     1\n",
       "Name: Aircraft.Category, dtype: int64"
      ]
     },
     "execution_count": 160,
     "metadata": {},
     "output_type": "execute_result"
    }
   ],
   "source": [
    "df['Aircraft.Category'].value_counts()"
   ]
  },
  {
   "cell_type": "markdown",
   "metadata": {},
   "source": [
    "Again, given that we are interested in commercial aviation use, let's narrow our focus to airplanes and helicopters only."
   ]
  },
  {
   "cell_type": "code",
   "execution_count": 168,
   "metadata": {},
   "outputs": [],
   "source": [
    "df = df[df['Aircraft.Category'].isin(['Airplane','Helicopter'])].reset_index()"
   ]
  },
  {
   "cell_type": "code",
   "execution_count": 169,
   "metadata": {
    "scrolled": true
   },
   "outputs": [
    {
     "data": {
      "text/plain": [
       "Personal                     16848\n",
       "Instructional                 3740\n",
       "Aerial Application            1386\n",
       "Unknown                       1119\n",
       "Business                       915\n",
       "Positioning                    551\n",
       "Other Work Use                 334\n",
       "Aerial Observation             313\n",
       "Flight Test                    266\n",
       "Ferry                          195\n",
       "Executive/corporate            172\n",
       "Skydiving                      166\n",
       "External Load                  105\n",
       "Banner Tow                      89\n",
       "Public Aircraft - Federal       83\n",
       "Air Race show                   77\n",
       "Public Aircraft - Local         65\n",
       "Public Aircraft                 65\n",
       "Public Aircraft - State         54\n",
       "Glider Tow                      35\n",
       "Firefighting                    34\n",
       "Air Drop                         8\n",
       "Air Race/show                    8\n",
       "ASHO                             6\n",
       "PUBS                             4\n",
       "PUBL                             1\n",
       "Name: Purpose.of.flight, dtype: int64"
      ]
     },
     "execution_count": 169,
     "metadata": {},
     "output_type": "execute_result"
    }
   ],
   "source": [
    "df['Purpose.of.flight'].value_counts()"
   ]
  },
  {
   "cell_type": "code",
   "execution_count": 163,
   "metadata": {},
   "outputs": [
    {
     "data": {
      "text/plain": [
       "Landing        2402\n",
       "Takeoff        1377\n",
       "Cruise          968\n",
       "Maneuvering     744\n",
       "Approach        692\n",
       "Taxi            255\n",
       "Descent         182\n",
       "Climb           164\n",
       "Go-around       155\n",
       "Standing         97\n",
       "Unknown          64\n",
       "Other            18\n",
       "Name: Broad.phase.of.flight, dtype: int64"
      ]
     },
     "execution_count": 163,
     "metadata": {},
     "output_type": "execute_result"
    }
   ],
   "source": [
    "df['Broad.phase.of.flight'].value_counts()"
   ]
  },
  {
   "cell_type": "markdown",
   "metadata": {},
   "source": [
    "### Event Date\n",
    "Immediately, I notice that the Event.Date column is not in datetime format, I'll correct this."
   ]
  },
  {
   "cell_type": "code",
   "execution_count": 170,
   "metadata": {},
   "outputs": [
    {
     "data": {
      "text/plain": [
       "str"
      ]
     },
     "execution_count": 170,
     "metadata": {},
     "output_type": "execute_result"
    }
   ],
   "source": [
    "type(df['Event.Date'][1])"
   ]
  },
  {
   "cell_type": "code",
   "execution_count": 171,
   "metadata": {},
   "outputs": [],
   "source": [
    "df['Event.Date'] = pd.to_datetime(df['Event.Date'])"
   ]
  },
  {
   "cell_type": "code",
   "execution_count": 172,
   "metadata": {},
   "outputs": [
    {
     "name": "stdout",
     "output_type": "stream",
     "text": [
      "<class 'pandas.core.frame.DataFrame'>\n",
      "RangeIndex: 31057 entries, 0 to 31056\n",
      "Data columns (total 32 columns):\n",
      " #   Column                  Non-Null Count  Dtype         \n",
      "---  ------                  --------------  -----         \n",
      " 0   index                   31057 non-null  int64         \n",
      " 1   Event.Id                31057 non-null  object        \n",
      " 2   Investigation.Type      31057 non-null  object        \n",
      " 3   Accident.Number         31057 non-null  object        \n",
      " 4   Event.Date              31057 non-null  datetime64[ns]\n",
      " 5   Location                31048 non-null  object        \n",
      " 6   Country                 31045 non-null  object        \n",
      " 7   Latitude                24854 non-null  object        \n",
      " 8   Longitude               24844 non-null  object        \n",
      " 9   Airport.Code            18943 non-null  object        \n",
      " 10  Airport.Name            19470 non-null  object        \n",
      " 11  Injury.Severity         30178 non-null  object        \n",
      " 12  Aircraft.damage         29704 non-null  object        \n",
      " 13  Aircraft.Category       31057 non-null  object        \n",
      " 14  Registration.Number     30785 non-null  object        \n",
      " 15  Make                    31045 non-null  object        \n",
      " 16  Model                   31024 non-null  object        \n",
      " 17  Amateur.Built           31038 non-null  object        \n",
      " 18  Number.of.Engines       27775 non-null  float64       \n",
      " 19  Engine.Type             26139 non-null  object        \n",
      " 20  FAR.Description         30461 non-null  object        \n",
      " 21  Schedule                3465 non-null   object        \n",
      " 22  Purpose.of.flight       26639 non-null  object        \n",
      " 23  Air.carrier             13181 non-null  object        \n",
      " 24  Total.Fatal.Injuries    27504 non-null  float64       \n",
      " 25  Total.Serious.Injuries  27449 non-null  float64       \n",
      " 26  Total.Minor.Injuries    27845 non-null  float64       \n",
      " 27  Total.Uninjured         30022 non-null  float64       \n",
      " 28  Weather.Condition       27441 non-null  object        \n",
      " 29  Broad.phase.of.flight   7118 non-null   object        \n",
      " 30  Report.Status           25225 non-null  object        \n",
      " 31  Publication.Date        29889 non-null  object        \n",
      "dtypes: datetime64[ns](1), float64(5), int64(1), object(25)\n",
      "memory usage: 7.6+ MB\n"
     ]
    }
   ],
   "source": [
    "df.info()"
   ]
  },
  {
   "cell_type": "markdown",
   "metadata": {},
   "source": [
    "### Air Carrier\n",
    "Of the air carrier values with non-null entries , it seems that the values are a mix of established carriers (e.g., American, United) which are likely to be helpful in my analysis and other values (e.g., YOUNGBLOOD LARRY J) which are likely to be less helpful when looking at commercial aviation."
   ]
  },
  {
   "cell_type": "code",
   "execution_count": 173,
   "metadata": {},
   "outputs": [
    {
     "data": {
      "text/plain": [
       "Pilot                                    242\n",
       "American Airlines                         47\n",
       "United Airlines                           43\n",
       "Delta Air Lines                           42\n",
       "SOUTHWEST AIRLINES CO                     41\n",
       "                                        ... \n",
       "Baron Aviation Services, Incorporated      1\n",
       "Presidential Land LLC                      1\n",
       "CAPIN COM.AGRIC.PECUARIA INDUST.LTDA       1\n",
       "Oklahoma Department Of Public Safety       1\n",
       "Dragon Aviation Inc.                       1\n",
       "Name: Air.carrier, Length: 11154, dtype: int64"
      ]
     },
     "execution_count": 173,
     "metadata": {},
     "output_type": "execute_result"
    }
   ],
   "source": [
    "df['Air.carrier'].value_counts()"
   ]
  },
  {
   "cell_type": "markdown",
   "metadata": {},
   "source": [
    "### Aircraft Make\n",
    "I see that Aircraft Make is likely to be a problem. For example, \"Cessna\" and \"CESSNA\" both appear here -- I will need to do some data cleaning to look for potentially duplicative entries."
   ]
  },
  {
   "cell_type": "code",
   "execution_count": 174,
   "metadata": {},
   "outputs": [
    {
     "data": {
      "text/plain": [
       "Make\n",
       "CESSNA                           4867\n",
       "Cessna                           3608\n",
       "PIPER                            2805\n",
       "Piper                            1910\n",
       "BOEING                           1039\n",
       "                                 ... \n",
       "Mcfarland                           1\n",
       "Mcdonnell Douglas Helicopters       1\n",
       "Mcdonnell Douglas Helicopter        1\n",
       "Mcdonald Douglas                    1\n",
       "177MF LLC                           1\n",
       "Length: 4172, dtype: int64"
      ]
     },
     "execution_count": 174,
     "metadata": {},
     "output_type": "execute_result"
    }
   ],
   "source": [
    "df.value_counts('Make')"
   ]
  },
  {
   "cell_type": "code",
   "execution_count": 175,
   "metadata": {},
   "outputs": [
    {
     "data": {
      "text/plain": [
       "12"
      ]
     },
     "execution_count": 175,
     "metadata": {},
     "output_type": "execute_result"
    }
   ],
   "source": [
    "df['Make'].isna().sum()"
   ]
  },
  {
   "cell_type": "code",
   "execution_count": 145,
   "metadata": {},
   "outputs": [],
   "source": [
    "df['Make'] = df['Make'].apply(lambda x: str(x))"
   ]
  },
  {
   "cell_type": "code",
   "execution_count": 152,
   "metadata": {},
   "outputs": [
    {
     "data": {
      "text/plain": [
       "0              []\n",
       "1              []\n",
       "2        [cessna]\n",
       "3              []\n",
       "4        [cessna]\n",
       "           ...   \n",
       "88884          []\n",
       "88885          []\n",
       "88886          []\n",
       "88887    [cessna]\n",
       "88888          []\n",
       "Name: Make, Length: 88889, dtype: object"
      ]
     },
     "execution_count": 152,
     "metadata": {},
     "output_type": "execute_result"
    }
   ],
   "source": [
    "df['Make'].apply(lambda x: re.findall('cessna',str.lower(x)))"
   ]
  },
  {
   "cell_type": "code",
   "execution_count": 141,
   "metadata": {},
   "outputs": [
    {
     "data": {
      "text/plain": [
       "'0                           Stinson\\n1                             Piper\\n2                            Cessna\\n3                          Rockwell\\n4                            Cessna\\n                    ...            \\n88884                         PIPER\\n88885                      BELLANCA\\n88886    AMERICAN CHAMPION AIRCRAFT\\n88887                        CESSNA\\n88888                         PIPER\\nName: Make, Length: 88889, dtype: object'"
      ]
     },
     "execution_count": 141,
     "metadata": {},
     "output_type": "execute_result"
    }
   ],
   "source": [
    "str(df['Make'])"
   ]
  },
  {
   "cell_type": "markdown",
   "metadata": {},
   "source": [
    "### Amateur vs Commercial Aircraft\n",
    "This analysis should only focus on commercial aviation, so I'll exclude any amateur-built aircraft."
   ]
  },
  {
   "cell_type": "code",
   "execution_count": 20,
   "metadata": {},
   "outputs": [
    {
     "data": {
      "text/plain": [
       "Amateur.Built\n",
       "No     80312\n",
       "Yes     8475\n",
       "dtype: int64"
      ]
     },
     "execution_count": 20,
     "metadata": {},
     "output_type": "execute_result"
    }
   ],
   "source": [
    "df.value_counts('Amateur.Built')"
   ]
  },
  {
   "cell_type": "markdown",
   "metadata": {},
   "source": [
    "## Initial Thoughts\n",
    "From looking at the columns, there are a lot of columns with relatively high null values.  For example, Air.carrier\n",
    "\n",
    "Which aircraft was most likely to crash? <br>\n",
    "Which aircraft was most likely to crash and cause the most casualties? <br>\n",
    "Which aircraft saw the biggest drops in fatalities over the years? <br>\n",
    "Did any aircraft see an increase in fatalities over the years? <br>\n",
    "\n",
    "### Visualizations:\n",
    "Total crashes over time <br>\n",
    "Geographic plot of crashes\n",
    "\n"
   ]
  },
  {
   "cell_type": "markdown",
   "metadata": {},
   "source": [
    "### High-Level Summary Statistics"
   ]
  },
  {
   "cell_type": "code",
   "execution_count": 112,
   "metadata": {},
   "outputs": [
    {
     "data": {
      "image/png": "[encoded data removed]",
      "text/plain": [
       "<Figure size 864x576 with 1 Axes>"
      ]
     },
     "metadata": {},
     "output_type": "display_data"
    }
   ],
   "source": [
    "# Total Incidents Per Year\n",
    "dates = df['Event.Date'].value_counts().sort_index(ascending=True)\n",
    "\n",
    "# Dropping some index values for years with very low counts to make the plot more legible\n",
    "dates_to_drop = pd.to_datetime(['1948-10-24', '1962-07-19','1974-08-30', '1977-06-19', '1979-08-02', '1979-09-17','1981-08-01',])\n",
    "dates.drop(index=dates_to_drop,inplace=True)\n",
    "\n",
    "import seaborn as sns\n",
    "\n",
    "fig,ax=plt.subplots(figsize=(12,8))\n",
    "\n",
    "counts = dates.groupby(dates.index.year).sum()\n",
    "years = counts.index\n",
    "\n",
    "sns.set_style('darkgrid')\n",
    "\n",
    "ax.plot(years,counts)\n",
    "ax.set_title('Total Aviation Incidents Per Year (1982-2022)', fontsize=14)\n",
    "ax.set_ylabel('Number of Incidents', fontsize=14)\n",
    "ax.set_xlabel('Year', fontsize=14)\n",
    "plt.show()"
   ]
  },
  {
   "cell_type": "code",
   "execution_count": null,
   "metadata": {},
   "outputs": [],
   "source": []
  }
 ],
 "metadata": {
  "kernelspec": {
   "display_name": "Python 3",
   "language": "python",
   "name": "python3"
  },
  "language_info": {
   "codemirror_mode": {
    "name": "ipython",
    "version": 3
   },
   "file_extension": ".py",
   "mimetype": "text/x-python",
   "name": "python",
   "nbconvert_exporter": "python",
   "pygments_lexer": "ipython3",
   "version": "3.8.5"
  }
 },
 "nbformat": 4,
 "nbformat_minor": 4
}
